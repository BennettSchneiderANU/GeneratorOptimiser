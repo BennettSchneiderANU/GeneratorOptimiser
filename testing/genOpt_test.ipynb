{
 "cells": [
  {
   "cell_type": "code",
   "execution_count": 1,
   "id": "e5d9ca6a",
   "metadata": {},
   "outputs": [
    {
     "name": "stderr",
     "output_type": "stream",
     "text": [
      "INFO:Starting logging with level INFO\n",
      "INFO:Starting logging with level DEBUG\n"
     ]
    }
   ],
   "source": [
    "import sys\n",
    "import os\n",
    "path = os.path.join(os.path.dirname(os.path.abspath('')),'src')\n",
    "if path not in sys.path:\n",
    "    sys.path.append(path)\n",
    "\n",
    "import genOpt as go\n",
    "import datetime as dt\n",
    "import pandas as pd\n",
    "import plotly.express as px\n",
    "from plotly.offline import plot\n",
    "from mip import *\n",
    "import time\n",
    "from ipywidgets import widgets\n",
    "go.SetLogging(path = '', level = 'DEBUG')"
   ]
  },
  {
   "cell_type": "code",
   "execution_count": 2,
   "id": "bee5e7f9",
   "metadata": {},
   "outputs": [],
   "source": [
    "#%% Initialise\n",
    "path_base = r\"C:\\Users\\benne\\OneDrive - Australian National University\\Master of Energy Change\\SCNC8021\\packaging_working\"\n",
    "t0 = dt.datetime(2020,1,1)\n",
    "t1 = dt.datetime(2020,2,1)\n",
    "region = 'NSW1'\n",
    "myPath = os.path.join(path_base,r\"results\\bessOpt\")\n",
    "nem = go.NEM(myPath)"
   ]
  },
  {
   "cell_type": "code",
   "execution_count": 3,
   "id": "b3c8f9f9",
   "metadata": {},
   "outputs": [],
   "source": [
    "# Instantiate BESS objexct\n",
    "bess1 = go.BESS(path,region,'bess1')\n",
    "bess2 = go.BESS(path,region,'bess2')\n",
    "bess3 = go.BESS(path,region,'bess3')"
   ]
  },
  {
   "cell_type": "code",
   "execution_count": 4,
   "id": "b7de9ca6",
   "metadata": {},
   "outputs": [],
   "source": [
    "# Read in the price data\n",
    "data_path = r\"C:\\Users\\benne\\OneDrive - Australian National University\\Master of Energy Change\\SCNC8021\\packaging_working\\RRP.csv\"\n",
    "RRP = pd.read_csv(data_path,index_col=0)\n",
    "RRP.index = pd.to_datetime(RRP.index) # [dt.datetime.strptime(DT,'%Y-%m-%d %H:%M:%S') for DT in RRP.index]\n",
    "RRP.index.name = 'Timestamp'\n",
    "# load modified rrp into nem\n",
    "nem.loadRaw(RRP, 5, 'Price')"
   ]
  },
  {
   "cell_type": "code",
   "execution_count": 5,
   "id": "3f9c044f",
   "metadata": {},
   "outputs": [
    {
     "name": "stderr",
     "output_type": "stream",
     "text": [
      "DEBUG: rrp is missing from bess1 object. Using default value\n",
      "DEBUG: regDisFrac is missing from bess1 object. Using default value\n",
      "DEBUG: regDict is missing from bess1 object. Using default value\n",
      "DEBUG: write is missing from bess1 object. Using default value\n",
      "DEBUG: debug is missing from bess1 object. Using default value\n",
      "DEBUG: Running BESS_COINOR between 2020-01-01 00:00:00 and 2020-01-08 17:30:00\n",
      "DEBUG: Running BESS_COINOR between 2020-01-08 17:30:00 and 2020-01-16 11:30:00\n"
     ]
    },
    {
     "name": "stdout",
     "output_type": "stream",
     "text": [
      "status: OptimizationStatus.OPTIMAL \n",
      "profit 10386.039494060311\n",
      "status: OptimizationStatus.OPTIMAL \n",
      "profit 249.76887742914272\n"
     ]
    },
    {
     "name": "stderr",
     "output_type": "stream",
     "text": [
      "DEBUG: Running BESS_COINOR between 2020-01-16 11:30:00 and 2020-01-24 05:30:00\n",
      "DEBUG: Running BESS_COINOR between 2020-01-24 05:30:00 and 2020-01-31 23:30:00\n"
     ]
    },
    {
     "name": "stdout",
     "output_type": "stream",
     "text": [
      "status: OptimizationStatus.OPTIMAL \n",
      "profit 2066.9221964535177\n",
      "status: OptimizationStatus.OPTIMAL \n",
      "profit 11545.11965255547\n"
     ]
    },
    {
     "name": "stderr",
     "output_type": "stream",
     "text": [
      "DEBUG: data is missing from bess2 object. Using default value\n",
      "DEBUG: window is missing from bess2 object. Using default value\n",
      "DEBUG: thresh is missing from bess2 object. Using default value\n",
      "DEBUG: roll is missing from bess2 object. Using default value\n",
      "DEBUG: data is missing from bess2 object. Using default value\n",
      "DEBUG: window is missing from bess2 object. Using default value\n",
      "DEBUG: thresh is missing from bess2 object. Using default value\n",
      "DEBUG: roll is missing from bess2 object. Using default value\n",
      "C:\\Users\\benne\\Anaconda3\\envs\\bessOpt\\lib\\site-packages\\pandas\\core\\frame.py:7138: FutureWarning:\n",
      "\n",
      "Sorting because non-concatenation axis is not aligned. A future version\n",
      "of pandas will change to not sort by default.\n",
      "\n",
      "To accept the future behavior, pass 'sort=False'.\n",
      "\n",
      "To retain the current behavior and silence the warning, pass 'sort=True'.\n",
      "\n",
      "\n",
      "DEBUG: rrp is missing from bess2 object. Using default value\n",
      "DEBUG: regDisFrac is missing from bess2 object. Using default value\n",
      "DEBUG: regDict is missing from bess2 object. Using default value\n",
      "DEBUG: write is missing from bess2 object. Using default value\n",
      "DEBUG: debug is missing from bess2 object. Using default value\n",
      "DEBUG: Running BESS_COINOR between 2020-01-01 00:00:00 and 2020-01-08 17:30:00\n",
      "DEBUG: Running BESS_COINOR between 2020-01-08 17:30:00 and 2020-01-16 11:30:00\n"
     ]
    },
    {
     "name": "stdout",
     "output_type": "stream",
     "text": [
      "status: OptimizationStatus.OPTIMAL \n",
      "profit 10327.25674225164\n",
      "status: OptimizationStatus.OPTIMAL \n",
      "profit 185.73047962864075\n"
     ]
    },
    {
     "name": "stderr",
     "output_type": "stream",
     "text": [
      "DEBUG: Running BESS_COINOR between 2020-01-16 11:30:00 and 2020-01-24 05:30:00\n",
      "DEBUG: Running BESS_COINOR between 2020-01-24 05:30:00 and 2020-01-31 23:30:00\n"
     ]
    },
    {
     "name": "stdout",
     "output_type": "stream",
     "text": [
      "status: OptimizationStatus.OPTIMAL \n",
      "profit 1963.0731441464513\n",
      "status: OptimizationStatus.OPTIMAL \n",
      "profit 11468.432094505695\n"
     ]
    },
    {
     "name": "stderr",
     "output_type": "stream",
     "text": [
      "DEBUG: rrp is missing from bess3 object. Using default value\n",
      "DEBUG: regDisFrac is missing from bess3 object. Using default value\n",
      "DEBUG: regDict is missing from bess3 object. Using default value\n",
      "DEBUG: write is missing from bess3 object. Using default value\n",
      "DEBUG: debug is missing from bess3 object. Using default value\n",
      "DEBUG: Running BESS_COINOR between 2020-01-01 00:30:00 and 2020-01-08 18:00:00\n",
      "DEBUG: Running BESS_COINOR between 2020-01-08 18:00:00 and 2020-01-16 12:00:00\n"
     ]
    },
    {
     "name": "stdout",
     "output_type": "stream",
     "text": [
      "status: OptimizationStatus.OPTIMAL \n",
      "profit 40903.26833671139\n"
     ]
    },
    {
     "name": "stderr",
     "output_type": "stream",
     "text": [
      "DEBUG: Running BESS_COINOR between 2020-01-16 12:00:00 and 2020-01-24 06:00:00\n"
     ]
    },
    {
     "name": "stdout",
     "output_type": "stream",
     "text": [
      "status: OptimizationStatus.OPTIMAL \n",
      "profit 5277.52498139315\n"
     ]
    },
    {
     "name": "stderr",
     "output_type": "stream",
     "text": [
      "DEBUG: Running BESS_COINOR between 2020-01-24 06:00:00 and 2020-02-01 00:00:00\n"
     ]
    },
    {
     "name": "stdout",
     "output_type": "stream",
     "text": [
      "status: OptimizationStatus.OPTIMAL \n",
      "profit 7582.127075153969\n",
      "status: OptimizationStatus.OPTIMAL \n",
      "profit 39232.54241268897\n"
     ]
    }
   ],
   "source": [
    "# Run optimisation\n",
    "m = Model(sense='MAX')\n",
    "bess1.optDispatch(nem, m,t0,t1)\n",
    "bess2.optDispatch(nem, m,t0,t1)\n",
    "bess3.optDispatch(nem, m,t0,t1)"
   ]
  },
  {
   "cell_type": "code",
   "execution_count": 6,
   "id": "e81422d0",
   "metadata": {},
   "outputs": [
    {
     "name": "stderr",
     "output_type": "stream",
     "text": [
      "C:\\Users\\benne\\Anaconda3\\envs\\bessOpt\\lib\\site-packages\\plotly\\graph_objs\\_deprecations.py:385: DeprecationWarning:\n",
      "\n",
      "plotly.graph_objs.Line is deprecated.\n",
      "Please replace it with one of the following more specific types\n",
      "  - plotly.graph_objs.scatter.Line\n",
      "  - plotly.graph_objs.layout.shape.Line\n",
      "  - etc.\n",
      "\n",
      "\n"
     ]
    },
    {
     "data": {
      "application/vnd.jupyter.widget-view+json": {
       "model_id": "68b30e6d1a4c476a9dc61b12a103def5",
       "version_major": 2,
       "version_minor": 0
      },
      "text/plain": [
       "VBox(children=(FigureWidget({\n",
       "    'data': [{'fill': 'tozeroy',\n",
       "              'fillcolor': 'rgba(179, 179, 179,…"
      ]
     },
     "metadata": {},
     "output_type": "display_data"
    }
   ],
   "source": [
    "# Plot\n",
    "fig = bess1.plotEnergy(nem)\n",
    "fig"
   ]
  },
  {
   "cell_type": "code",
   "execution_count": null,
   "id": "0d90f14a",
   "metadata": {},
   "outputs": [],
   "source": []
  }
 ],
 "metadata": {
  "kernelspec": {
   "display_name": "Python 3",
   "language": "python",
   "name": "python3"
  },
  "language_info": {
   "codemirror_mode": {
    "name": "ipython",
    "version": 3
   },
   "file_extension": ".py",
   "mimetype": "text/x-python",
   "name": "python",
   "nbconvert_exporter": "python",
   "pygments_lexer": "ipython3",
   "version": "3.7.9"
  }
 },
 "nbformat": 4,
 "nbformat_minor": 5
}
