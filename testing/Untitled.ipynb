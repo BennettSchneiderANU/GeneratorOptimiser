{
 "cells": [
  {
   "cell_type": "code",
   "execution_count": null,
   "id": "4e87a9d9",
   "metadata": {},
   "outputs": [],
   "source": [
    "import sys\n",
    "import os\n",
    "path = os.path.join(os.path.dirname(os.path.dirname(__file__)),'src')\n",
    "if path not in sys.path:\n",
    "    sys.path.append(path)\n",
    "\n",
    "import genOpt as go\n",
    "import datetime as dt\n",
    "import pandas as pd\n",
    "import plotly.express as px\n",
    "from plotly.offline import plot\n",
    "from mip import *\n",
    "import time\n",
    "from ipywidgets import widgets\n",
    "go.SetLogging(path = '', level = 'DEBUG')"
   ]
  },
  {
   "cell_type": "code",
   "execution_count": null,
   "id": "cbdb20d5",
   "metadata": {},
   "outputs": [],
   "source": [
    "#%% Initialise\n",
    "path_base = r\"C:\\Users\\benne\\OneDrive - Australian National University\\Master of Energy Change\\SCNC8021\\packaging_working\"\n",
    "t0 = dt.datetime(2020,1,1)\n",
    "t1 = dt.datetime(2020,2,1)\n",
    "region = 'NSW1'\n",
    "myPath = os.path.join(path_base,r\"results\\bessOpt\")\n",
    "nem = go.NEM(myPath)"
   ]
  },
  {
   "cell_type": "code",
   "execution_count": null,
   "id": "85b837f7",
   "metadata": {},
   "outputs": [],
   "source": [
    "# Instantiate BESS objexct\n",
    "bess1 = go.BESS(path,region,'bess1')\n",
    "bess2 = go.BESS(path,region,'bess2')\n",
    "bess3 = go.BESS(path,region,'bess3')"
   ]
  },
  {
   "cell_type": "code",
   "execution_count": null,
   "id": "9fcfb008",
   "metadata": {},
   "outputs": [],
   "source": [
    "# Read in the price data\n",
    "data_path = r\"C:\\Users\\benne\\OneDrive - Australian National University\\Master of Energy Change\\SCNC8021\\packaging_working\\RRP.csv\"\n",
    "RRP = pd.read_csv(data_path,index_col=0)\n",
    "RRP.index = pd.to_datetime(RRP.index) # [dt.datetime.strptime(DT,'%Y-%m-%d %H:%M:%S') for DT in RRP.index]\n",
    "RRP.index.name = 'Timestamp'\n",
    "# load modified rrp into nem\n",
    "nem.loadRaw(RRP, 5, 'Price')"
   ]
  },
  {
   "cell_type": "code",
   "execution_count": null,
   "id": "c307ec96",
   "metadata": {},
   "outputs": [],
   "source": [
    "# Run optimisation\n",
    "m = Model(sense='MAX')\n",
    "bess1.optDispatch(nem, m,t0,t1)\n",
    "bess2.optDispatch(nem, m,t0,t1)\n",
    "bess3.optDispatch(nem, m,t0,t1)"
   ]
  },
  {
   "cell_type": "code",
   "execution_count": null,
   "id": "e2a69b13",
   "metadata": {},
   "outputs": [],
   "source": [
    "# Plot\n",
    "fig = bess1.plotEnergy(nem)\n",
    "fig"
   ]
  }
 ],
 "metadata": {
  "kernelspec": {
   "display_name": "Python 3",
   "language": "python",
   "name": "python3"
  },
  "language_info": {
   "codemirror_mode": {
    "name": "ipython",
    "version": 3
   },
   "file_extension": ".py",
   "mimetype": "text/x-python",
   "name": "python",
   "nbconvert_exporter": "python",
   "pygments_lexer": "ipython3",
   "version": "3.7.9"
  }
 },
 "nbformat": 4,
 "nbformat_minor": 5
}
